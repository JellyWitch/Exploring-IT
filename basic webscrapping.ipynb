{
 "cells": [
  {
   "cell_type": "code",
   "execution_count": 1,
   "metadata": {},
   "outputs": [],
   "source": [
    "import requests\n",
    "import pandas\n",
    "import bs4\n"
   ]
  },
  {
   "cell_type": "markdown",
   "metadata": {},
   "source": [
    "Udmey course category list"
   ]
  },
  {
   "cell_type": "code",
   "execution_count": 11,
   "metadata": {},
   "outputs": [],
   "source": [
    "list=[]\n",
    "url=\"https://www.udemy.com/\"\n",
    "content=requests.get(url).text\n",
    "data=bs4.BeautifulSoup(content,\"lxml\")\n",
    "courses=data.find(\"body\")\n",
    "\n",
    "course=courses.find_all(\"a\",{\"class\":\"js-side-nav-cat\"},href=True)\n",
    "for i in course:\n",
    "    list.append((i.text,\"https://www.udemy.com\"+i.get('href')))\n",
    "\n",
    "\n",
    "course=courses.find_all(\"div\",{\"class\":\"js-side-nav-popular-topics\"})\n",
    "for i in course:\n",
    "    g=i.find_all(\"a\",href=True)\n",
    "    for j in g:\n",
    "        j.get('href')\n",
    "        list.append((j.text,\"https://www.udemy.com\"+j['href']))\n",
    "x=pandas.DataFrame(list, columns=(\"course\", \"link\"))\n",
    "print(x)\n",
    "# x.to_csv(\"UdmeyList.csv\")\n"
   ]
  },
  {
   "cell_type": "code",
   "execution_count": null,
   "metadata": {},
   "outputs": [],
   "source": []
  }
 ],
 "metadata": {
  "kernelspec": {
   "display_name": "Python 3",
   "language": "python",
   "name": "python3"
  },
  "language_info": {
   "codemirror_mode": {
    "name": "ipython",
    "version": 3
   },
   "file_extension": ".py",
   "mimetype": "text/x-python",
   "name": "python",
   "nbconvert_exporter": "python",
   "pygments_lexer": "ipython3",
   "version": "3.7.4"
  }
 },
 "nbformat": 4,
 "nbformat_minor": 2
}
